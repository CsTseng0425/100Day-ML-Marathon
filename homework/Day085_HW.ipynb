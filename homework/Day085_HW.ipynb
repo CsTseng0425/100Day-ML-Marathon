{
 "cells": [
  {
   "cell_type": "markdown",
   "metadata": {},
   "source": [
    "## Work\n",
    "1. 試改變 monitor \"Validation Accuracy\" 並比較結果\n",
    "2. 調整 earlystop 的等待次數至 10, 25 並比較結果"
   ]
  },
  {
   "cell_type": "code",
   "execution_count": 1,
   "metadata": {},
   "outputs": [
    {
     "name": "stderr",
     "output_type": "stream",
     "text": [
      "Using TensorFlow backend.\n"
     ]
    }
   ],
   "source": [
    "import os\n",
    "import keras\n",
    "import matplotlib.pyplot as plt\n",
    "%matplotlib inline\n",
    "\n",
    "\n",
    "# Disable GPU\n",
    "os.environ[\"CUDA_VISIBLE_DEVICES\"] = \"\""
   ]
  },
  {
   "cell_type": "code",
   "execution_count": 2,
   "metadata": {},
   "outputs": [],
   "source": [
    "train, test = keras.datasets.cifar10.load_data()"
   ]
  },
  {
   "cell_type": "code",
   "execution_count": 3,
   "metadata": {},
   "outputs": [],
   "source": [
    "## 資料前處理\n",
    "def preproc_x(x, flatten=True):\n",
    "    x = x / 255.\n",
    "    if flatten:\n",
    "        x = x.reshape((len(x), -1))\n",
    "    return x\n",
    "\n",
    "def preproc_y(y, num_classes=10):\n",
    "    if y.shape[-1] == 1:\n",
    "        y = keras.utils.to_categorical(y, num_classes)\n",
    "    return y    "
   ]
  },
  {
   "cell_type": "code",
   "execution_count": 4,
   "metadata": {},
   "outputs": [],
   "source": [
    "x_train, y_train = train\n",
    "x_test, y_test = test\n",
    "\n",
    "# Preproc the inputs\n",
    "x_train = preproc_x(x_train)\n",
    "x_test = preproc_x(x_test)\n",
    "\n",
    "# Preprc the outputs\n",
    "y_train = preproc_y(y_train)\n",
    "y_test = preproc_y(y_test)"
   ]
  },
  {
   "cell_type": "code",
   "execution_count": 5,
   "metadata": {},
   "outputs": [],
   "source": [
    "from keras.layers import BatchNormalization\n",
    "\n",
    "\"\"\"\n",
    "建立神經網路，並加入 BN layer\n",
    "\"\"\"\n",
    "def build_mlp(input_shape, output_units=10, num_neurons=[512, 256, 128]):\n",
    "    input_layer = keras.layers.Input(input_shape)\n",
    "    \n",
    "    for i, n_units in enumerate(num_neurons):\n",
    "        if i == 0:\n",
    "            x = keras.layers.Dense(units=n_units, \n",
    "                                   activation=\"relu\", \n",
    "                                   name=\"hidden_layer\"+str(i+1))(input_layer)\n",
    "            x = BatchNormalization()(x)\n",
    "        else:\n",
    "            x = keras.layers.Dense(units=n_units, \n",
    "                                   activation=\"relu\", \n",
    "                                   name=\"hidden_layer\"+str(i+1))(x)\n",
    "            x = BatchNormalization()(x)\n",
    "    \n",
    "    out = keras.layers.Dense(units=output_units, activation=\"softmax\", name=\"output\")(x)\n",
    "    \n",
    "    model = keras.models.Model(inputs=[input_layer], outputs=[out])\n",
    "    return model"
   ]
  },
  {
   "cell_type": "code",
   "execution_count": 6,
   "metadata": {},
   "outputs": [],
   "source": [
    "\"\"\"Code Here\n",
    "設定超參數\n",
    "\"\"\"\n",
    "LEARNING_RATE = 1e-3\n",
    "EPOCHS = 50\n",
    "BATCH_SIZE = 1024\n",
    "MOMENTUM = 0.95"
   ]
  },
  {
   "cell_type": "code",
   "execution_count": 7,
   "metadata": {},
   "outputs": [
    {
     "name": "stderr",
     "output_type": "stream",
     "text": [
      "WARNING: Logging before flag parsing goes to stderr.\n",
      "W0809 18:06:07.982215 14832 deprecation_wrapper.py:119] From c:\\users\\susan01\\appdata\\local\\programs\\python\\python37\\lib\\site-packages\\keras\\backend\\tensorflow_backend.py:74: The name tf.get_default_graph is deprecated. Please use tf.compat.v1.get_default_graph instead.\n",
      "\n",
      "W0809 18:06:08.016033 14832 deprecation_wrapper.py:119] From c:\\users\\susan01\\appdata\\local\\programs\\python\\python37\\lib\\site-packages\\keras\\backend\\tensorflow_backend.py:517: The name tf.placeholder is deprecated. Please use tf.compat.v1.placeholder instead.\n",
      "\n",
      "W0809 18:06:08.023531 14832 deprecation_wrapper.py:119] From c:\\users\\susan01\\appdata\\local\\programs\\python\\python37\\lib\\site-packages\\keras\\backend\\tensorflow_backend.py:4138: The name tf.random_uniform is deprecated. Please use tf.random.uniform instead.\n",
      "\n",
      "W0809 18:06:08.115776 14832 deprecation_wrapper.py:119] From c:\\users\\susan01\\appdata\\local\\programs\\python\\python37\\lib\\site-packages\\keras\\backend\\tensorflow_backend.py:133: The name tf.placeholder_with_default is deprecated. Please use tf.compat.v1.placeholder_with_default instead.\n",
      "\n",
      "W0809 18:06:08.315864 14832 deprecation_wrapper.py:119] From c:\\users\\susan01\\appdata\\local\\programs\\python\\python37\\lib\\site-packages\\keras\\optimizers.py:790: The name tf.train.Optimizer is deprecated. Please use tf.compat.v1.train.Optimizer instead.\n",
      "\n",
      "W0809 18:06:08.321820 14832 deprecation_wrapper.py:119] From c:\\users\\susan01\\appdata\\local\\programs\\python\\python37\\lib\\site-packages\\keras\\backend\\tensorflow_backend.py:3295: The name tf.log is deprecated. Please use tf.math.log instead.\n",
      "\n",
      "W0809 18:06:08.391108 14832 deprecation.py:323] From c:\\users\\susan01\\appdata\\local\\programs\\python\\python37\\lib\\site-packages\\tensorflow\\python\\ops\\math_grad.py:1250: add_dispatch_support.<locals>.wrapper (from tensorflow.python.ops.array_ops) is deprecated and will be removed in a future version.\n",
      "Instructions for updating:\n",
      "Use tf.where in 2.0, which has the same broadcast rule as np.where\n"
     ]
    },
    {
     "name": "stdout",
     "output_type": "stream",
     "text": [
      "_________________________________________________________________\n",
      "Layer (type)                 Output Shape              Param #   \n",
      "=================================================================\n",
      "input_1 (InputLayer)         (None, 3072)              0         \n",
      "_________________________________________________________________\n",
      "hidden_layer1 (Dense)        (None, 512)               1573376   \n",
      "_________________________________________________________________\n",
      "batch_normalization_1 (Batch (None, 512)               2048      \n",
      "_________________________________________________________________\n",
      "hidden_layer2 (Dense)        (None, 256)               131328    \n",
      "_________________________________________________________________\n",
      "batch_normalization_2 (Batch (None, 256)               1024      \n",
      "_________________________________________________________________\n",
      "hidden_layer3 (Dense)        (None, 128)               32896     \n",
      "_________________________________________________________________\n",
      "batch_normalization_3 (Batch (None, 128)               512       \n",
      "_________________________________________________________________\n",
      "output (Dense)               (None, 10)                1290      \n",
      "=================================================================\n",
      "Total params: 1,742,474\n",
      "Trainable params: 1,740,682\n",
      "Non-trainable params: 1,792\n",
      "_________________________________________________________________\n",
      "Train on 50000 samples, validate on 10000 samples\n",
      "Epoch 1/50\n",
      "50000/50000 [==============================] - 5s 98us/step - loss: 2.2522 - acc: 0.2634 - val_loss: 2.1640 - val_acc: 0.3105\n",
      "Epoch 2/50\n",
      "50000/50000 [==============================] - 4s 85us/step - loss: 1.7594 - acc: 0.3866 - val_loss: 1.8269 - val_acc: 0.3734\n",
      "Epoch 3/50\n",
      "50000/50000 [==============================] - 4s 85us/step - loss: 1.6341 - acc: 0.4273 - val_loss: 1.7382 - val_acc: 0.3953\n",
      "Epoch 4/50\n",
      "50000/50000 [==============================] - 5s 93us/step - loss: 1.5573 - acc: 0.4564 - val_loss: 1.6503 - val_acc: 0.4199\n",
      "Epoch 5/50\n",
      "50000/50000 [==============================] - 5s 107us/step - loss: 1.5003 - acc: 0.4746 - val_loss: 1.6259 - val_acc: 0.4307\n",
      "Epoch 6/50\n",
      "50000/50000 [==============================] - 5s 106us/step - loss: 1.4550 - acc: 0.4914 - val_loss: 1.5823 - val_acc: 0.4453\n",
      "Epoch 7/50\n",
      "50000/50000 [==============================] - 5s 105us/step - loss: 1.4139 - acc: 0.5065 - val_loss: 1.5595 - val_acc: 0.4528\n",
      "Epoch 8/50\n",
      "50000/50000 [==============================] - 5s 105us/step - loss: 1.3768 - acc: 0.5208 - val_loss: 1.5417 - val_acc: 0.4629\n",
      "Epoch 9/50\n",
      "50000/50000 [==============================] - 5s 104us/step - loss: 1.3437 - acc: 0.5316 - val_loss: 1.5185 - val_acc: 0.4665\n",
      "Epoch 10/50\n",
      "50000/50000 [==============================] - 5s 105us/step - loss: 1.3156 - acc: 0.5431 - val_loss: 1.5132 - val_acc: 0.4699\n",
      "Epoch 11/50\n",
      "50000/50000 [==============================] - 5s 107us/step - loss: 1.2841 - acc: 0.5542 - val_loss: 1.5077 - val_acc: 0.4722\n",
      "Epoch 12/50\n",
      "50000/50000 [==============================] - 5s 106us/step - loss: 1.2565 - acc: 0.5655 - val_loss: 1.4984 - val_acc: 0.4776\n",
      "Epoch 13/50\n",
      "50000/50000 [==============================] - 5s 107us/step - loss: 1.2302 - acc: 0.5751 - val_loss: 1.4814 - val_acc: 0.4796\n",
      "Epoch 14/50\n",
      "50000/50000 [==============================] - 5s 106us/step - loss: 1.2069 - acc: 0.5843 - val_loss: 1.4917 - val_acc: 0.4782\n",
      "Epoch 15/50\n",
      "50000/50000 [==============================] - 5s 105us/step - loss: 1.1826 - acc: 0.5919 - val_loss: 1.4715 - val_acc: 0.4873\n",
      "Epoch 16/50\n",
      "50000/50000 [==============================] - 5s 107us/step - loss: 1.1585 - acc: 0.5999 - val_loss: 1.4721 - val_acc: 0.4879\n",
      "Epoch 17/50\n",
      "50000/50000 [==============================] - 5s 105us/step - loss: 1.1365 - acc: 0.6099 - val_loss: 1.4735 - val_acc: 0.4860\n",
      "Epoch 18/50\n",
      "50000/50000 [==============================] - 5s 105us/step - loss: 1.1136 - acc: 0.6166 - val_loss: 1.4805 - val_acc: 0.4870\n",
      "Epoch 19/50\n",
      "50000/50000 [==============================] - 5s 105us/step - loss: 1.0907 - acc: 0.6286 - val_loss: 1.4576 - val_acc: 0.4914\n",
      "Epoch 20/50\n",
      "50000/50000 [==============================] - 5s 106us/step - loss: 1.0676 - acc: 0.6348 - val_loss: 1.4858 - val_acc: 0.4886\n",
      "Epoch 21/50\n",
      "50000/50000 [==============================] - 5s 105us/step - loss: 1.0472 - acc: 0.6435 - val_loss: 1.4564 - val_acc: 0.4938\n",
      "Epoch 22/50\n",
      "50000/50000 [==============================] - 5s 110us/step - loss: 1.0251 - acc: 0.6527 - val_loss: 1.4643 - val_acc: 0.4918\n",
      "Epoch 23/50\n",
      "50000/50000 [==============================] - 5s 106us/step - loss: 1.0057 - acc: 0.6597 - val_loss: 1.4739 - val_acc: 0.4886\n",
      "Epoch 24/50\n",
      "50000/50000 [==============================] - 5s 106us/step - loss: 0.9844 - acc: 0.6684 - val_loss: 1.4925 - val_acc: 0.4877\n",
      "Epoch 25/50\n",
      "50000/50000 [==============================] - 5s 109us/step - loss: 0.9634 - acc: 0.6761 - val_loss: 1.4725 - val_acc: 0.4940\n",
      "Epoch 26/50\n",
      "50000/50000 [==============================] - 5s 108us/step - loss: 0.9451 - acc: 0.6821 - val_loss: 1.4772 - val_acc: 0.4916\n",
      "Epoch 00026: early stopping\n"
     ]
    }
   ],
   "source": [
    "# 載入 Callbacks\n",
    "\"\"\"Code Here\n",
    "設定 callbacks: Earlystop\n",
    "\"\"\"\n",
    "from keras.callbacks import EarlyStopping\n",
    "\n",
    "earlystop = EarlyStopping(monitor=\"val_loss\", \n",
    "                          patience=5, \n",
    "                          verbose=1\n",
    "                          )\n",
    "\n",
    "results = {}\n",
    "\"\"\"Code Here\n",
    "撰寫你的訓練流程並將結果用 dictionary 紀錄\n",
    "\"\"\"\n",
    "model = build_mlp(input_shape=x_train.shape[1:])\n",
    "model.summary()\n",
    "optimizer = keras.optimizers.SGD(lr=LEARNING_RATE, nesterov=True, momentum=MOMENTUM)\n",
    "model.compile(loss=\"categorical_crossentropy\", metrics=[\"accuracy\"], optimizer=optimizer)\n",
    "\n",
    "model.fit(x_train, y_train, \n",
    "          epochs=EPOCHS, \n",
    "          batch_size=BATCH_SIZE, \n",
    "          validation_data=(x_test, y_test), \n",
    "          shuffle=True,\n",
    "          callbacks=[earlystop]\n",
    "         )\n",
    "\n",
    "# Collect results\n",
    "train_loss = model.history.history[\"loss\"]\n",
    "valid_loss = model.history.history[\"val_loss\"]\n",
    "train_acc = model.history.history[\"acc\"]\n",
    "valid_acc = model.history.history[\"val_acc\"]"
   ]
  },
  {
   "cell_type": "code",
   "execution_count": 8,
   "metadata": {},
   "outputs": [
    {
     "data": {
      "image/png": "[encoded data removed]",
      "text/plain": [
       "<Figure size 432x288 with 1 Axes>"
      ]
     },
     "metadata": {
      "needs_background": "light"
     },
     "output_type": "display_data"
    },
    {
     "data": {
      "image/png": "[encoded data removed]",
      "text/plain": [
       "<Figure size 432x288 with 1 Axes>"
      ]
     },
     "metadata": {
      "needs_background": "light"
     },
     "output_type": "display_data"
    }
   ],
   "source": [
    "import matplotlib.pyplot as plt\n",
    "%matplotlib inline\n",
    "\"\"\"Code Here\n",
    "將結果繪出\n",
    "\"\"\"\n",
    "\n",
    "plt.plot(range(len(train_loss)), train_loss, label=\"train loss\")\n",
    "plt.plot(range(len(valid_loss)), valid_loss, label=\"valid loss\")\n",
    "plt.legend()\n",
    "plt.title(\"Loss\")\n",
    "plt.show()\n",
    "\n",
    "plt.plot(range(len(train_acc)), train_acc, label=\"train accuracy\")\n",
    "plt.plot(range(len(valid_acc)), valid_acc, label=\"valid accuracy\")\n",
    "plt.legend()\n",
    "plt.title(\"Accuracy\")\n",
    "plt.show()"
   ]
  },
  {
   "cell_type": "code",
   "execution_count": 9,
   "metadata": {},
   "outputs": [
    {
     "name": "stdout",
     "output_type": "stream",
     "text": [
      "_________________________________________________________________\n",
      "Layer (type)                 Output Shape              Param #   \n",
      "=================================================================\n",
      "input_2 (InputLayer)         (None, 3072)              0         \n",
      "_________________________________________________________________\n",
      "hidden_layer1 (Dense)        (None, 512)               1573376   \n",
      "_________________________________________________________________\n",
      "batch_normalization_4 (Batch (None, 512)               2048      \n",
      "_________________________________________________________________\n",
      "hidden_layer2 (Dense)        (None, 256)               131328    \n",
      "_________________________________________________________________\n",
      "batch_normalization_5 (Batch (None, 256)               1024      \n",
      "_________________________________________________________________\n",
      "hidden_layer3 (Dense)        (None, 128)               32896     \n",
      "_________________________________________________________________\n",
      "batch_normalization_6 (Batch (None, 128)               512       \n",
      "_________________________________________________________________\n",
      "output (Dense)               (None, 10)                1290      \n",
      "=================================================================\n",
      "Total params: 1,742,474\n",
      "Trainable params: 1,740,682\n",
      "Non-trainable params: 1,792\n",
      "_________________________________________________________________\n",
      "Train on 50000 samples, validate on 10000 samples\n",
      "Epoch 1/50\n",
      "50000/50000 [==============================] - 5s 98us/step - loss: 2.2207 - acc: 0.2724 - val_loss: 2.2000 - val_acc: 0.3032\n",
      "Epoch 2/50\n",
      "50000/50000 [==============================] - 4s 83us/step - loss: 1.7483 - acc: 0.3911 - val_loss: 1.8110 - val_acc: 0.3836\n",
      "Epoch 3/50\n",
      "50000/50000 [==============================] - 4s 84us/step - loss: 1.6193 - acc: 0.4322 - val_loss: 1.7003 - val_acc: 0.4140\n",
      "Epoch 4/50\n",
      "50000/50000 [==============================] - 4s 84us/step - loss: 1.5451 - acc: 0.4579 - val_loss: 1.6357 - val_acc: 0.4306\n",
      "Epoch 5/50\n",
      "50000/50000 [==============================] - 5s 96us/step - loss: 1.4899 - acc: 0.4784 - val_loss: 1.6053 - val_acc: 0.4386\n",
      "Epoch 6/50\n",
      "50000/50000 [==============================] - 5s 105us/step - loss: 1.4446 - acc: 0.4935 - val_loss: 1.5502 - val_acc: 0.4577\n",
      "Epoch 7/50\n",
      "50000/50000 [==============================] - 5s 105us/step - loss: 1.4058 - acc: 0.5059 - val_loss: 1.5498 - val_acc: 0.4592\n",
      "Epoch 8/50\n",
      "50000/50000 [==============================] - 5s 107us/step - loss: 1.3699 - acc: 0.5206 - val_loss: 1.5182 - val_acc: 0.4673\n",
      "Epoch 9/50\n",
      "50000/50000 [==============================] - 5s 105us/step - loss: 1.3376 - acc: 0.5313 - val_loss: 1.5163 - val_acc: 0.4678\n",
      "Epoch 10/50\n",
      "50000/50000 [==============================] - 5s 105us/step - loss: 1.3079 - acc: 0.5422 - val_loss: 1.5035 - val_acc: 0.4736\n",
      "Epoch 11/50\n",
      "50000/50000 [==============================] - 5s 107us/step - loss: 1.2796 - acc: 0.5554 - val_loss: 1.5062 - val_acc: 0.4697\n",
      "Epoch 12/50\n",
      "50000/50000 [==============================] - 5s 106us/step - loss: 1.2536 - acc: 0.5636 - val_loss: 1.4851 - val_acc: 0.4738\n",
      "Epoch 13/50\n",
      "50000/50000 [==============================] - 5s 105us/step - loss: 1.2250 - acc: 0.5750 - val_loss: 1.4690 - val_acc: 0.4869\n",
      "Epoch 14/50\n",
      "50000/50000 [==============================] - 5s 106us/step - loss: 1.2019 - acc: 0.5844 - val_loss: 1.4752 - val_acc: 0.4809\n",
      "Epoch 15/50\n",
      "50000/50000 [==============================] - 5s 105us/step - loss: 1.1780 - acc: 0.5914 - val_loss: 1.4716 - val_acc: 0.4872\n",
      "Epoch 16/50\n",
      "50000/50000 [==============================] - 5s 105us/step - loss: 1.1548 - acc: 0.6010 - val_loss: 1.4709 - val_acc: 0.4885\n",
      "Epoch 17/50\n",
      "50000/50000 [==============================] - 5s 105us/step - loss: 1.1311 - acc: 0.6100 - val_loss: 1.4545 - val_acc: 0.4940\n",
      "Epoch 18/50\n",
      "50000/50000 [==============================] - 5s 105us/step - loss: 1.1080 - acc: 0.6195 - val_loss: 1.4509 - val_acc: 0.4962\n",
      "Epoch 19/50\n",
      "50000/50000 [==============================] - 5s 107us/step - loss: 1.0874 - acc: 0.6258 - val_loss: 1.4541 - val_acc: 0.4938\n",
      "Epoch 20/50\n",
      "50000/50000 [==============================] - 5s 106us/step - loss: 1.0649 - acc: 0.6361 - val_loss: 1.4558 - val_acc: 0.4919\n",
      "Epoch 21/50\n",
      "50000/50000 [==============================] - 5s 106us/step - loss: 1.0434 - acc: 0.6443 - val_loss: 1.4478 - val_acc: 0.4961\n",
      "Epoch 22/50\n",
      "50000/50000 [==============================] - 5s 105us/step - loss: 1.0238 - acc: 0.6531 - val_loss: 1.4429 - val_acc: 0.4979\n",
      "Epoch 23/50\n",
      "50000/50000 [==============================] - 5s 106us/step - loss: 1.0020 - acc: 0.6608 - val_loss: 1.4554 - val_acc: 0.4923\n",
      "Epoch 24/50\n",
      "50000/50000 [==============================] - 6s 111us/step - loss: 0.9794 - acc: 0.6670 - val_loss: 1.4473 - val_acc: 0.5005\n",
      "Epoch 25/50\n",
      "50000/50000 [==============================] - 5s 107us/step - loss: 0.9595 - acc: 0.6768 - val_loss: 1.4540 - val_acc: 0.4983\n",
      "Epoch 26/50\n",
      "50000/50000 [==============================] - 5s 105us/step - loss: 0.9404 - acc: 0.6836 - val_loss: 1.4593 - val_acc: 0.4990\n",
      "Epoch 27/50\n",
      "50000/50000 [==============================] - 5s 107us/step - loss: 0.9197 - acc: 0.6914 - val_loss: 1.4671 - val_acc: 0.4961\n",
      "Epoch 28/50\n",
      "50000/50000 [==============================] - 5s 105us/step - loss: 0.8988 - acc: 0.6997 - val_loss: 1.4703 - val_acc: 0.4923\n",
      "Epoch 29/50\n",
      "50000/50000 [==============================] - 5s 107us/step - loss: 0.8787 - acc: 0.7077 - val_loss: 1.4712 - val_acc: 0.4950\n",
      "Epoch 30/50\n",
      "50000/50000 [==============================] - 5s 109us/step - loss: 0.8593 - acc: 0.7165 - val_loss: 1.4766 - val_acc: 0.5024\n",
      "Epoch 31/50\n",
      "50000/50000 [==============================] - 6s 110us/step - loss: 0.8394 - acc: 0.7233 - val_loss: 1.4912 - val_acc: 0.4949\n",
      "Epoch 32/50\n",
      "50000/50000 [==============================] - 5s 107us/step - loss: 0.8216 - acc: 0.7305 - val_loss: 1.4969 - val_acc: 0.4952\n",
      "Epoch 33/50\n",
      "50000/50000 [==============================] - 5s 108us/step - loss: 0.8025 - acc: 0.7381 - val_loss: 1.4873 - val_acc: 0.5027\n",
      "Epoch 34/50\n",
      "50000/50000 [==============================] - 5s 110us/step - loss: 0.7843 - acc: 0.7450 - val_loss: 1.4984 - val_acc: 0.4969\n",
      "Epoch 35/50\n",
      "50000/50000 [==============================] - 5s 109us/step - loss: 0.7648 - acc: 0.7526 - val_loss: 1.5113 - val_acc: 0.4958\n",
      "Epoch 36/50\n",
      "50000/50000 [==============================] - 6s 114us/step - loss: 0.7462 - acc: 0.7597 - val_loss: 1.5285 - val_acc: 0.4914\n",
      "Epoch 37/50\n",
      "50000/50000 [==============================] - 5s 105us/step - loss: 0.7268 - acc: 0.7682 - val_loss: 1.5315 - val_acc: 0.4971\n",
      "Epoch 38/50\n",
      "50000/50000 [==============================] - 5s 100us/step - loss: 0.7090 - acc: 0.7753 - val_loss: 1.5401 - val_acc: 0.4933\n",
      "Epoch 39/50\n",
      "50000/50000 [==============================] - 5s 101us/step - loss: 0.6887 - acc: 0.7831 - val_loss: 1.5309 - val_acc: 0.4986\n",
      "Epoch 40/50\n",
      "50000/50000 [==============================] - 5s 101us/step - loss: 0.6721 - acc: 0.7899 - val_loss: 1.5559 - val_acc: 0.4949\n",
      "Epoch 41/50\n",
      "50000/50000 [==============================] - 5s 100us/step - loss: 0.6528 - acc: 0.7975 - val_loss: 1.5720 - val_acc: 0.4944\n",
      "Epoch 42/50\n",
      "50000/50000 [==============================] - 5s 104us/step - loss: 0.6383 - acc: 0.8042 - val_loss: 1.5691 - val_acc: 0.4955\n",
      "Epoch 43/50\n",
      "50000/50000 [==============================] - 5s 106us/step - loss: 0.6170 - acc: 0.8126 - val_loss: 1.5787 - val_acc: 0.4909\n",
      "Epoch 44/50\n",
      "50000/50000 [==============================] - 5s 108us/step - loss: 0.6013 - acc: 0.8175 - val_loss: 1.5783 - val_acc: 0.4950\n",
      "Epoch 45/50\n",
      "50000/50000 [==============================] - 5s 107us/step - loss: 0.5841 - acc: 0.8255 - val_loss: 1.6182 - val_acc: 0.4901\n",
      "Epoch 46/50\n",
      "50000/50000 [==============================] - 5s 106us/step - loss: 0.5684 - acc: 0.8317 - val_loss: 1.6160 - val_acc: 0.4917\n",
      "Epoch 47/50\n",
      "50000/50000 [==============================] - 5s 109us/step - loss: 0.5524 - acc: 0.8363 - val_loss: 1.6205 - val_acc: 0.4907\n",
      "Epoch 00047: early stopping\n"
     ]
    }
   ],
   "source": [
    "from keras.callbacks import EarlyStopping\n",
    "\n",
    "earlystop = EarlyStopping(monitor=\"val_loss\", \n",
    "                          patience=25, \n",
    "                          verbose=1\n",
    "                          )\n",
    "\n",
    "results = {}\n",
    "\"\"\"Code Here\n",
    "撰寫你的訓練流程並將結果用 dictionary 紀錄\n",
    "\"\"\"\n",
    "model = build_mlp(input_shape=x_train.shape[1:])\n",
    "model.summary()\n",
    "optimizer = keras.optimizers.SGD(lr=LEARNING_RATE, nesterov=True, momentum=MOMENTUM)\n",
    "model.compile(loss=\"categorical_crossentropy\", metrics=[\"accuracy\"], optimizer=optimizer)\n",
    "\n",
    "model.fit(x_train, y_train, \n",
    "          epochs=EPOCHS, \n",
    "          batch_size=BATCH_SIZE, \n",
    "          validation_data=(x_test, y_test), \n",
    "          shuffle=True,\n",
    "          callbacks=[earlystop]\n",
    "         )\n",
    "\n",
    "# Collect results\n",
    "train_loss = model.history.history[\"loss\"]\n",
    "valid_loss = model.history.history[\"val_loss\"]\n",
    "train_acc = model.history.history[\"acc\"]\n",
    "valid_acc = model.history.history[\"val_acc\"]"
   ]
  },
  {
   "cell_type": "code",
   "execution_count": 10,
   "metadata": {},
   "outputs": [
    {
     "data": {
      "image/png": "[encoded data removed]",
      "text/plain": [
       "<Figure size 432x288 with 1 Axes>"
      ]
     },
     "metadata": {
      "needs_background": "light"
     },
     "output_type": "display_data"
    },
    {
     "data": {
      "image/png": "[encoded data removed]",
      "text/plain": [
       "<Figure size 432x288 with 1 Axes>"
      ]
     },
     "metadata": {
      "needs_background": "light"
     },
     "output_type": "display_data"
    }
   ],
   "source": [
    "plt.plot(range(len(train_loss)), train_loss, label=\"train loss\")\n",
    "plt.plot(range(len(valid_loss)), valid_loss, label=\"valid loss\")\n",
    "plt.legend()\n",
    "plt.title(\"Loss\")\n",
    "plt.show()\n",
    "\n",
    "plt.plot(range(len(train_acc)), train_acc, label=\"train accuracy\")\n",
    "plt.plot(range(len(valid_acc)), valid_acc, label=\"valid accuracy\")\n",
    "plt.legend()\n",
    "plt.title(\"Accuracy\")\n",
    "plt.show()"
   ]
  },
  {
   "cell_type": "code",
   "execution_count": null,
   "metadata": {},
   "outputs": [],
   "source": []
  }
 ],
 "metadata": {
  "kernelspec": {
   "display_name": "Python 3",
   "language": "python",
   "name": "python3"
  },
  "language_info": {
   "codemirror_mode": {
    "name": "ipython",
    "version": 3
   },
   "file_extension": ".py",
   "mimetype": "text/x-python",
   "name": "python",
   "nbconvert_exporter": "python",
   "pygments_lexer": "ipython3",
   "version": "3.7.3"
  }
 },
 "nbformat": 4,
 "nbformat_minor": 2
}
