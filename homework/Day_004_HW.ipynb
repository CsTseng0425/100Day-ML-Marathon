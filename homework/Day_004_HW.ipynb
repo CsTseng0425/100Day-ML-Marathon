{
 "cells": [
  {
   "cell_type": "code",
   "execution_count": 2,
   "metadata": {
    "colab": {},
    "colab_type": "code",
    "id": "lh9gyloHVblR"
   },
   "outputs": [],
   "source": [
    "import os\n",
    "import numpy as np\n",
    "import pandas as pd"
   ]
  },
  {
   "cell_type": "code",
   "execution_count": 18,
   "metadata": {
    "colab": {},
    "colab_type": "code",
    "id": "z4iLB9cKVblV"
   },
   "outputs": [],
   "source": [
    "# 設定 data_path, 並讀取 app_train\n",
    "dir_data = 'D:/Python/Part01/'\n",
    "f_app_train = os.path.join(dir_data, 'application_train.csv')\n",
    "app_train = pd.read_csv(f_app_train)"
   ]
  },
  {
   "cell_type": "markdown",
   "metadata": {
    "colab": {},
    "colab_type": "code",
    "collapsed": true,
    "id": "d5IeEcPVVblq"
   },
   "source": [
    "## 作業\n",
    "將下列部分資料片段 sub_train 使用 One Hot encoding, 並觀察轉換前後的欄位數量 (使用 shape) 與欄位名稱 (使用 head) 變化"
   ]
  },
  {
   "cell_type": "code",
   "execution_count": 19,
   "metadata": {},
   "outputs": [
    {
     "name": "stdout",
     "output_type": "stream",
     "text": [
      "(307511, 1)\n"
     ]
    },
    {
     "data": {
      "text/html": [
       "<div>\n",
       "<style scoped>\n",
       "    .dataframe tbody tr th:only-of-type {\n",
       "        vertical-align: middle;\n",
       "    }\n",
       "\n",
       "    .dataframe tbody tr th {\n",
       "        vertical-align: top;\n",
       "    }\n",
       "\n",
       "    .dataframe thead th {\n",
       "        text-align: right;\n",
       "    }\n",
       "</style>\n",
       "<table border=\"1\" class=\"dataframe\">\n",
       "  <thead>\n",
       "    <tr style=\"text-align: right;\">\n",
       "      <th></th>\n",
       "      <th>WEEKDAY_APPR_PROCESS_START</th>\n",
       "    </tr>\n",
       "  </thead>\n",
       "  <tbody>\n",
       "    <tr>\n",
       "      <th>0</th>\n",
       "      <td>WEDNESDAY</td>\n",
       "    </tr>\n",
       "    <tr>\n",
       "      <th>1</th>\n",
       "      <td>MONDAY</td>\n",
       "    </tr>\n",
       "    <tr>\n",
       "      <th>2</th>\n",
       "      <td>MONDAY</td>\n",
       "    </tr>\n",
       "    <tr>\n",
       "      <th>3</th>\n",
       "      <td>WEDNESDAY</td>\n",
       "    </tr>\n",
       "    <tr>\n",
       "      <th>4</th>\n",
       "      <td>THURSDAY</td>\n",
       "    </tr>\n",
       "  </tbody>\n",
       "</table>\n",
       "</div>"
      ],
      "text/plain": [
       "  WEEKDAY_APPR_PROCESS_START\n",
       "0                  WEDNESDAY\n",
       "1                     MONDAY\n",
       "2                     MONDAY\n",
       "3                  WEDNESDAY\n",
       "4                   THURSDAY"
      ]
     },
     "execution_count": 19,
     "metadata": {},
     "output_type": "execute_result"
    }
   ],
   "source": [
    "sub_train = pd.DataFrame(app_train['WEEKDAY_APPR_PROCESS_START'])\n",
    "print(sub_train.shape)\n",
    "sub_train.head()"
   ]
  },
  {
   "cell_type": "code",
   "execution_count": 10,
   "metadata": {},
   "outputs": [
    {
     "data": {
      "text/plain": [
       "float64    65\n",
       "int64      41\n",
       "object     16\n",
       "dtype: int64"
      ]
     },
     "execution_count": 10,
     "metadata": {},
     "output_type": "execute_result"
    }
   ],
   "source": [
    "app_train.dtypes.value_counts()"
   ]
  },
  {
   "cell_type": "code",
   "execution_count": 11,
   "metadata": {},
   "outputs": [
    {
     "data": {
      "text/plain": [
       "NAME_CONTRACT_TYPE             2\n",
       "CODE_GENDER                    3\n",
       "FLAG_OWN_CAR                   2\n",
       "FLAG_OWN_REALTY                2\n",
       "NAME_TYPE_SUITE                7\n",
       "NAME_INCOME_TYPE               8\n",
       "NAME_EDUCATION_TYPE            5\n",
       "NAME_FAMILY_STATUS             6\n",
       "NAME_HOUSING_TYPE              6\n",
       "OCCUPATION_TYPE               18\n",
       "WEEKDAY_APPR_PROCESS_START     7\n",
       "ORGANIZATION_TYPE             58\n",
       "FONDKAPREMONT_MODE             4\n",
       "HOUSETYPE_MODE                 3\n",
       "WALLSMATERIAL_MODE             7\n",
       "EMERGENCYSTATE_MODE            2\n",
       "dtype: int64"
      ]
     },
     "execution_count": 11,
     "metadata": {},
     "output_type": "execute_result"
    }
   ],
   "source": [
    "# 類別型欄位 (pandas 中的 object) 的類別數量?\n",
    "app_train.select_dtypes(include=[\"object\"]).apply(pd.Series.nunique, axis = 0)"
   ]
  },
  {
   "cell_type": "code",
   "execution_count": 27,
   "metadata": {},
   "outputs": [],
   "source": [
    "#模型怎麼處理類別型的資料？有什麼表示方法？\n",
    "#(1) 使用for loop 一筆筆比對啁整資料\n",
    "#(2) 使用 python encoding function"
   ]
  },
  {
   "cell_type": "code",
   "execution_count": 26,
   "metadata": {},
   "outputs": [
    {
     "data": {
      "text/plain": [
       "0          No\n",
       "1          No\n",
       "2         NaN\n",
       "3         NaN\n",
       "4         NaN\n",
       "5         NaN\n",
       "6         NaN\n",
       "7         NaN\n",
       "8         NaN\n",
       "9         NaN\n",
       "10        NaN\n",
       "11        NaN\n",
       "12         No\n",
       "13         No\n",
       "14         No\n",
       "15        NaN\n",
       "16        NaN\n",
       "17        NaN\n",
       "18         No\n",
       "19        NaN\n",
       "20         No\n",
       "21        NaN\n",
       "22         No\n",
       "23         No\n",
       "24         No\n",
       "25         No\n",
       "26        Yes\n",
       "27        NaN\n",
       "28        NaN\n",
       "29         No\n",
       "         ... \n",
       "307481    NaN\n",
       "307482     No\n",
       "307483     No\n",
       "307484    NaN\n",
       "307485    NaN\n",
       "307486     No\n",
       "307487    NaN\n",
       "307488     No\n",
       "307489    Yes\n",
       "307490    NaN\n",
       "307491    NaN\n",
       "307492    NaN\n",
       "307493    NaN\n",
       "307494    NaN\n",
       "307495     No\n",
       "307496    NaN\n",
       "307497    NaN\n",
       "307498     No\n",
       "307499    NaN\n",
       "307500     No\n",
       "307501     No\n",
       "307502    NaN\n",
       "307503    NaN\n",
       "307504    NaN\n",
       "307505     No\n",
       "307506     No\n",
       "307507     No\n",
       "307508     No\n",
       "307509     No\n",
       "307510     No\n",
       "Name: EMERGENCYSTATE_MODE, Length: 307511, dtype: object"
      ]
     },
     "execution_count": 26,
     "metadata": {},
     "output_type": "execute_result"
    }
   ],
   "source": [
    "app_train['EMERGENCYSTATE_MODE']"
   ]
  },
  {
   "cell_type": "markdown",
   "metadata": {},
   "source": [
    "###  before encoding"
   ]
  },
  {
   "cell_type": "code",
   "execution_count": 12,
   "metadata": {},
   "outputs": [
    {
     "data": {
      "text/plain": [
       "0              Cash loans\n",
       "1              Cash loans\n",
       "2         Revolving loans\n",
       "3              Cash loans\n",
       "4              Cash loans\n",
       "5              Cash loans\n",
       "6              Cash loans\n",
       "7              Cash loans\n",
       "8              Cash loans\n",
       "9         Revolving loans\n",
       "10             Cash loans\n",
       "11             Cash loans\n",
       "12             Cash loans\n",
       "13             Cash loans\n",
       "14             Cash loans\n",
       "15             Cash loans\n",
       "16             Cash loans\n",
       "17        Revolving loans\n",
       "18        Revolving loans\n",
       "19             Cash loans\n",
       "20        Revolving loans\n",
       "21             Cash loans\n",
       "22             Cash loans\n",
       "23             Cash loans\n",
       "24             Cash loans\n",
       "25             Cash loans\n",
       "26             Cash loans\n",
       "27             Cash loans\n",
       "28             Cash loans\n",
       "29        Revolving loans\n",
       "               ...       \n",
       "307481         Cash loans\n",
       "307482         Cash loans\n",
       "307483         Cash loans\n",
       "307484         Cash loans\n",
       "307485    Revolving loans\n",
       "307486         Cash loans\n",
       "307487         Cash loans\n",
       "307488         Cash loans\n",
       "307489         Cash loans\n",
       "307490         Cash loans\n",
       "307491         Cash loans\n",
       "307492         Cash loans\n",
       "307493         Cash loans\n",
       "307494         Cash loans\n",
       "307495         Cash loans\n",
       "307496    Revolving loans\n",
       "307497         Cash loans\n",
       "307498         Cash loans\n",
       "307499         Cash loans\n",
       "307500         Cash loans\n",
       "307501         Cash loans\n",
       "307502         Cash loans\n",
       "307503         Cash loans\n",
       "307504         Cash loans\n",
       "307505         Cash loans\n",
       "307506         Cash loans\n",
       "307507         Cash loans\n",
       "307508         Cash loans\n",
       "307509         Cash loans\n",
       "307510         Cash loans\n",
       "Name: NAME_CONTRACT_TYPE, Length: 307511, dtype: object"
      ]
     },
     "execution_count": 12,
     "metadata": {},
     "output_type": "execute_result"
    }
   ],
   "source": [
    "app_train['NAME_CONTRACT_TYPE']"
   ]
  },
  {
   "cell_type": "markdown",
   "metadata": {},
   "source": [
    "## hot encoding"
   ]
  },
  {
   "cell_type": "code",
   "execution_count": 22,
   "metadata": {},
   "outputs": [
    {
     "data": {
      "text/html": [
       "<div>\n",
       "<style scoped>\n",
       "    .dataframe tbody tr th:only-of-type {\n",
       "        vertical-align: middle;\n",
       "    }\n",
       "\n",
       "    .dataframe tbody tr th {\n",
       "        vertical-align: top;\n",
       "    }\n",
       "\n",
       "    .dataframe thead th {\n",
       "        text-align: right;\n",
       "    }\n",
       "</style>\n",
       "<table border=\"1\" class=\"dataframe\">\n",
       "  <thead>\n",
       "    <tr style=\"text-align: right;\">\n",
       "      <th></th>\n",
       "      <th>Cash loans</th>\n",
       "      <th>Revolving loans</th>\n",
       "    </tr>\n",
       "  </thead>\n",
       "  <tbody>\n",
       "    <tr>\n",
       "      <th>0</th>\n",
       "      <td>1</td>\n",
       "      <td>0</td>\n",
       "    </tr>\n",
       "    <tr>\n",
       "      <th>1</th>\n",
       "      <td>1</td>\n",
       "      <td>0</td>\n",
       "    </tr>\n",
       "    <tr>\n",
       "      <th>2</th>\n",
       "      <td>0</td>\n",
       "      <td>1</td>\n",
       "    </tr>\n",
       "    <tr>\n",
       "      <th>3</th>\n",
       "      <td>1</td>\n",
       "      <td>0</td>\n",
       "    </tr>\n",
       "    <tr>\n",
       "      <th>4</th>\n",
       "      <td>1</td>\n",
       "      <td>0</td>\n",
       "    </tr>\n",
       "  </tbody>\n",
       "</table>\n",
       "</div>"
      ],
      "text/plain": [
       "   Cash loans  Revolving loans\n",
       "0           1                0\n",
       "1           1                0\n",
       "2           0                1\n",
       "3           1                0\n",
       "4           1                0"
      ]
     },
     "execution_count": 22,
     "metadata": {},
     "output_type": "execute_result"
    }
   ],
   "source": [
    "NC_TYPE = pd.get_dummies(app_train['NAME_CONTRACT_TYPE'])\n",
    "NC_TYPE.head()"
   ]
  },
  {
   "cell_type": "code",
   "execution_count": 23,
   "metadata": {},
   "outputs": [
    {
     "data": {
      "text/plain": [
       "0         Cash loans\n",
       "1         Cash loans\n",
       "2    Revolving loans\n",
       "3         Cash loans\n",
       "4         Cash loans\n",
       "Name: NAME_CONTRACT_TYPE, dtype: object"
      ]
     },
     "execution_count": 23,
     "metadata": {},
     "output_type": "execute_result"
    }
   ],
   "source": [
    "app_train['NAME_CONTRACT_TYPE'].head()"
   ]
  },
  {
   "cell_type": "markdown",
   "metadata": {},
   "source": [
    "## Label Encoding"
   ]
  },
  {
   "cell_type": "code",
   "execution_count": 13,
   "metadata": {},
   "outputs": [],
   "source": [
    "from sklearn.preprocessing import LabelEncoder"
   ]
  },
  {
   "cell_type": "code",
   "execution_count": 24,
   "metadata": {},
   "outputs": [],
   "source": [
    "le = LabelEncoder()\n",
    "le_count = 0\n",
    "\n",
    "# If 2 or fewer unique categories\n",
    "if len(list(app_train['NAME_CONTRACT_TYPE'].unique())) <= 2:\n",
    "    # Train on the training data\n",
    "    le.fit(app_train['NAME_CONTRACT_TYPE'])\n",
    "    # Transform both training and testing data\n",
    "    app_train['NAME_CONTRACT_TYPE'] = le.transform(app_train['NAME_CONTRACT_TYPE'])\n",
    "  \n",
    "    # Keep track of how many columns were label encoded\n",
    "    le_count += 1"
   ]
  },
  {
   "cell_type": "code",
   "execution_count": 25,
   "metadata": {},
   "outputs": [
    {
     "data": {
      "text/plain": [
       "0    0\n",
       "1    0\n",
       "2    1\n",
       "3    0\n",
       "4    0\n",
       "Name: NAME_CONTRACT_TYPE, dtype: int32"
      ]
     },
     "execution_count": 25,
     "metadata": {},
     "output_type": "execute_result"
    }
   ],
   "source": [
    "#after label encoding\n",
    "app_train['NAME_CONTRACT_TYPE'].head()"
   ]
  },
  {
   "cell_type": "code",
   "execution_count": null,
   "metadata": {},
   "outputs": [],
   "source": []
  }
 ],
 "metadata": {
  "colab": {
   "name": "Day_004_column_data_type.ipynb",
   "provenance": [],
   "version": "0.3.2"
  },
  "kernelspec": {
   "display_name": "Python 3",
   "language": "python",
   "name": "python3"
  },
  "language_info": {
   "codemirror_mode": {
    "name": "ipython",
    "version": 3
   },
   "file_extension": ".py",
   "mimetype": "text/x-python",
   "name": "python",
   "nbconvert_exporter": "python",
   "pygments_lexer": "ipython3",
   "version": "3.6.3"
  }
 },
 "nbformat": 4,
 "nbformat_minor": 1
}
