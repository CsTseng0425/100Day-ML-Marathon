{
 "cells": [
  {
   "cell_type": "markdown",
   "metadata": {},
   "source": [
    "## Work\n",
    "1. 試比較有 BN 在 Batch_size = 2, 16, 32, 128, 256 下的差異\n",
    "2. 請嘗試將 BN 放在 Activation 之前，並比較訓練結果\n",
    "3. 請於 BN 放在 Input Layer 後，並比較結果"
   ]
  },
  {
   "cell_type": "code",
   "execution_count": 1,
   "metadata": {},
   "outputs": [
    {
     "name": "stderr",
     "output_type": "stream",
     "text": [
      "Using TensorFlow backend.\n"
     ]
    }
   ],
   "source": [
    "import os\n",
    "import keras\n",
    "import itertools\n",
    "# Disable GPU\n",
    "os.environ[\"CUDA_VISIBLE_DEVICES\"] = \"\""
   ]
  },
  {
   "cell_type": "code",
   "execution_count": 2,
   "metadata": {},
   "outputs": [],
   "source": [
    "train, test = keras.datasets.cifar10.load_data()"
   ]
  },
  {
   "cell_type": "code",
   "execution_count": 3,
   "metadata": {},
   "outputs": [],
   "source": [
    "## 資料前處理\n",
    "def preproc_x(x, flatten=True):\n",
    "    x = x / 255.\n",
    "    if flatten:\n",
    "        x = x.reshape((len(x), -1))\n",
    "    return x\n",
    "\n",
    "def preproc_y(y, num_classes=10):\n",
    "    if y.shape[-1] == 1:\n",
    "        y = keras.utils.to_categorical(y, num_classes)\n",
    "    return y    "
   ]
  },
  {
   "cell_type": "code",
   "execution_count": 4,
   "metadata": {},
   "outputs": [],
   "source": [
    "x_train, y_train = train\n",
    "x_test, y_test = test\n",
    "\n",
    "# Preproc the inputs\n",
    "x_train = preproc_x(x_train)\n",
    "x_test = preproc_x(x_test)\n",
    "\n",
    "# Preprc the outputs\n",
    "y_train = preproc_y(y_train)\n",
    "y_test = preproc_y(y_test)"
   ]
  },
  {
   "cell_type": "code",
   "execution_count": 5,
   "metadata": {},
   "outputs": [],
   "source": [
    "from keras.layers import BatchNormalization\n",
    "\n",
    "\"\"\"\n",
    "建立神經網路，並加入 BN layer\n",
    "\"\"\"\n",
    "def build_mlp(input_shape, output_units=10, num_neurons=[2, 16, 32, 128, 256]):\n",
    "    input_layer = keras.layers.Input(input_shape)\n",
    "    \n",
    "    for i, n_units in enumerate(num_neurons):\n",
    "        if i == 0:\n",
    "            x = keras.layers.Dense(units=n_units, \n",
    "                                   activation=\"relu\", \n",
    "                                   name=\"hidden_layer\"+str(i+1))(input_layer)\n",
    "            x = BatchNormalization()(x)\n",
    "        else:\n",
    "            x = keras.layers.Dense(units=n_units, \n",
    "                                   activation=\"relu\", \n",
    "                                   name=\"hidden_layer\"+str(i+1))(x)\n",
    "            x = BatchNormalization()(x)\n",
    "    \n",
    "    out = keras.layers.Dense(units=output_units, activation=\"softmax\", name=\"output\")(x)\n",
    "    \n",
    "    model = keras.models.Model(inputs=[input_layer], outputs=[out])\n",
    "    return model"
   ]
  },
  {
   "cell_type": "code",
   "execution_count": 6,
   "metadata": {},
   "outputs": [],
   "source": [
    "## 超參數設定\n",
    "LEARNING_RATE = 1e-3\n",
    "EPOCHS = 50\n",
    "BATCH_SIZE = 1024\n",
    "MOMENTUM = 0.95"
   ]
  },
  {
   "cell_type": "code",
   "execution_count": 7,
   "metadata": {
    "scrolled": true
   },
   "outputs": [
    {
     "name": "stderr",
     "output_type": "stream",
     "text": [
      "WARNING: Logging before flag parsing goes to stderr.\n",
      "W0809 14:34:27.803209 13668 deprecation_wrapper.py:119] From c:\\users\\susan01\\appdata\\local\\programs\\python\\python37\\lib\\site-packages\\keras\\backend\\tensorflow_backend.py:74: The name tf.get_default_graph is deprecated. Please use tf.compat.v1.get_default_graph instead.\n",
      "\n",
      "W0809 14:34:27.815180 13668 deprecation_wrapper.py:119] From c:\\users\\susan01\\appdata\\local\\programs\\python\\python37\\lib\\site-packages\\keras\\backend\\tensorflow_backend.py:517: The name tf.placeholder is deprecated. Please use tf.compat.v1.placeholder instead.\n",
      "\n",
      "W0809 14:34:27.819177 13668 deprecation_wrapper.py:119] From c:\\users\\susan01\\appdata\\local\\programs\\python\\python37\\lib\\site-packages\\keras\\backend\\tensorflow_backend.py:4138: The name tf.random_uniform is deprecated. Please use tf.random.uniform instead.\n",
      "\n",
      "W0809 14:34:27.873071 13668 deprecation_wrapper.py:119] From c:\\users\\susan01\\appdata\\local\\programs\\python\\python37\\lib\\site-packages\\keras\\backend\\tensorflow_backend.py:133: The name tf.placeholder_with_default is deprecated. Please use tf.compat.v1.placeholder_with_default instead.\n",
      "\n",
      "W0809 14:34:28.130157 13668 deprecation_wrapper.py:119] From c:\\users\\susan01\\appdata\\local\\programs\\python\\python37\\lib\\site-packages\\keras\\optimizers.py:790: The name tf.train.Optimizer is deprecated. Please use tf.compat.v1.train.Optimizer instead.\n",
      "\n",
      "W0809 14:34:28.135144 13668 deprecation_wrapper.py:119] From c:\\users\\susan01\\appdata\\local\\programs\\python\\python37\\lib\\site-packages\\keras\\backend\\tensorflow_backend.py:3295: The name tf.log is deprecated. Please use tf.math.log instead.\n",
      "\n",
      "W0809 14:34:28.207975 13668 deprecation.py:323] From c:\\users\\susan01\\appdata\\local\\programs\\python\\python37\\lib\\site-packages\\tensorflow\\python\\ops\\math_grad.py:1250: add_dispatch_support.<locals>.wrapper (from tensorflow.python.ops.array_ops) is deprecated and will be removed in a future version.\n",
      "Instructions for updating:\n",
      "Use tf.where in 2.0, which has the same broadcast rule as np.where\n"
     ]
    },
    {
     "name": "stdout",
     "output_type": "stream",
     "text": [
      "_________________________________________________________________\n",
      "Layer (type)                 Output Shape              Param #   \n",
      "=================================================================\n",
      "input_1 (InputLayer)         (None, 3072)              0         \n",
      "_________________________________________________________________\n",
      "hidden_layer1 (Dense)        (None, 2)                 6146      \n",
      "_________________________________________________________________\n",
      "batch_normalization_1 (Batch (None, 2)                 8         \n",
      "_________________________________________________________________\n",
      "hidden_layer2 (Dense)        (None, 16)                48        \n",
      "_________________________________________________________________\n",
      "batch_normalization_2 (Batch (None, 16)                64        \n",
      "_________________________________________________________________\n",
      "hidden_layer3 (Dense)        (None, 32)                544       \n",
      "_________________________________________________________________\n",
      "batch_normalization_3 (Batch (None, 32)                128       \n",
      "_________________________________________________________________\n",
      "hidden_layer4 (Dense)        (None, 128)               4224      \n",
      "_________________________________________________________________\n",
      "batch_normalization_4 (Batch (None, 128)               512       \n",
      "_________________________________________________________________\n",
      "hidden_layer5 (Dense)        (None, 256)               33024     \n",
      "_________________________________________________________________\n",
      "batch_normalization_5 (Batch (None, 256)               1024      \n",
      "_________________________________________________________________\n",
      "output (Dense)               (None, 10)                2570      \n",
      "=================================================================\n",
      "Total params: 48,292\n",
      "Trainable params: 47,424\n",
      "Non-trainable params: 868\n",
      "_________________________________________________________________\n",
      "Train on 50000 samples, validate on 10000 samples\n",
      "Epoch 1/50\n",
      "50000/50000 [==============================] - 3s 53us/step - loss: 2.3955 - acc: 0.1384 - val_loss: 3.2623 - val_acc: 0.1085\n",
      "Epoch 2/50\n",
      "50000/50000 [==============================] - 2s 38us/step - loss: 2.2458 - acc: 0.1556 - val_loss: 2.4872 - val_acc: 0.1292\n",
      "Epoch 3/50\n",
      "50000/50000 [==============================] - 2s 39us/step - loss: 2.2396 - acc: 0.1587 - val_loss: 2.3242 - val_acc: 0.1382\n",
      "Epoch 4/50\n",
      "50000/50000 [==============================] - 2s 38us/step - loss: 2.2378 - acc: 0.1570 - val_loss: 2.2749 - val_acc: 0.1489\n",
      "Epoch 5/50\n",
      "50000/50000 [==============================] - 2s 38us/step - loss: 2.2370 - acc: 0.1575 - val_loss: 2.2428 - val_acc: 0.1550\n",
      "Epoch 6/50\n",
      "50000/50000 [==============================] - 2s 38us/step - loss: 2.2366 - acc: 0.1583 - val_loss: 2.2468 - val_acc: 0.1562\n",
      "Epoch 7/50\n",
      "50000/50000 [==============================] - 2s 38us/step - loss: 2.2353 - acc: 0.1600 - val_loss: 2.2418 - val_acc: 0.1562\n",
      "Epoch 8/50\n",
      "50000/50000 [==============================] - 2s 38us/step - loss: 2.2351 - acc: 0.1581 - val_loss: 2.2359 - val_acc: 0.1531\n",
      "Epoch 9/50\n",
      "50000/50000 [==============================] - 2s 38us/step - loss: 2.2350 - acc: 0.1580 - val_loss: 2.2394 - val_acc: 0.1584\n",
      "Epoch 10/50\n",
      "50000/50000 [==============================] - 2s 38us/step - loss: 2.2355 - acc: 0.1583 - val_loss: 2.2316 - val_acc: 0.1530\n",
      "Epoch 11/50\n",
      "50000/50000 [==============================] - 2s 39us/step - loss: 2.2339 - acc: 0.1597 - val_loss: 2.2348 - val_acc: 0.1602\n",
      "Epoch 12/50\n",
      "50000/50000 [==============================] - 2s 38us/step - loss: 2.2340 - acc: 0.1583 - val_loss: 2.2339 - val_acc: 0.1614\n",
      "Epoch 13/50\n",
      "50000/50000 [==============================] - 2s 39us/step - loss: 2.2334 - acc: 0.1573 - val_loss: 2.2373 - val_acc: 0.1584\n",
      "Epoch 14/50\n",
      "50000/50000 [==============================] - 2s 39us/step - loss: 2.2330 - acc: 0.1601 - val_loss: 2.2329 - val_acc: 0.1602\n",
      "Epoch 15/50\n",
      "50000/50000 [==============================] - 2s 39us/step - loss: 2.2331 - acc: 0.1581 - val_loss: 2.2354 - val_acc: 0.1454\n",
      "Epoch 16/50\n",
      "50000/50000 [==============================] - 2s 39us/step - loss: 2.2332 - acc: 0.1575 - val_loss: 2.2365 - val_acc: 0.1536\n",
      "Epoch 17/50\n",
      "50000/50000 [==============================] - 2s 40us/step - loss: 2.2328 - acc: 0.1594 - val_loss: 2.2302 - val_acc: 0.1607\n",
      "Epoch 18/50\n",
      "50000/50000 [==============================] - 2s 39us/step - loss: 2.2321 - acc: 0.1605 - val_loss: 2.2317 - val_acc: 0.1588\n",
      "Epoch 19/50\n",
      "50000/50000 [==============================] - 2s 40us/step - loss: 2.2317 - acc: 0.1606 - val_loss: 2.2326 - val_acc: 0.1589\n",
      "Epoch 20/50\n",
      "50000/50000 [==============================] - 2s 39us/step - loss: 2.2314 - acc: 0.1603 - val_loss: 2.2307 - val_acc: 0.1587\n",
      "Epoch 21/50\n",
      "50000/50000 [==============================] - 2s 40us/step - loss: 2.2316 - acc: 0.1607 - val_loss: 2.2290 - val_acc: 0.1605\n",
      "Epoch 22/50\n",
      "50000/50000 [==============================] - 2s 40us/step - loss: 2.2302 - acc: 0.1618 - val_loss: 2.2307 - val_acc: 0.1602\n",
      "Epoch 23/50\n",
      "50000/50000 [==============================] - 2s 39us/step - loss: 2.2308 - acc: 0.1605 - val_loss: 2.2299 - val_acc: 0.1566\n",
      "Epoch 24/50\n",
      "50000/50000 [==============================] - 2s 40us/step - loss: 2.2307 - acc: 0.1609 - val_loss: 2.2291 - val_acc: 0.1611\n",
      "Epoch 25/50\n",
      "50000/50000 [==============================] - 2s 40us/step - loss: 2.2299 - acc: 0.1609 - val_loss: 2.2310 - val_acc: 0.1528\n",
      "Epoch 26/50\n",
      "50000/50000 [==============================] - 2s 40us/step - loss: 2.2300 - acc: 0.1610 - val_loss: 2.2263 - val_acc: 0.1601\n",
      "Epoch 27/50\n",
      "50000/50000 [==============================] - 2s 40us/step - loss: 2.2294 - acc: 0.1609 - val_loss: 2.2310 - val_acc: 0.1541\n",
      "Epoch 28/50\n",
      "50000/50000 [==============================] - 2s 40us/step - loss: 2.2295 - acc: 0.1619 - val_loss: 2.2279 - val_acc: 0.1572\n",
      "Epoch 29/50\n",
      "50000/50000 [==============================] - 2s 40us/step - loss: 2.2294 - acc: 0.1610 - val_loss: 2.2281 - val_acc: 0.1625\n",
      "Epoch 30/50\n",
      "50000/50000 [==============================] - 2s 41us/step - loss: 2.2296 - acc: 0.1612 - val_loss: 2.2275 - val_acc: 0.1562\n",
      "Epoch 31/50\n",
      "50000/50000 [==============================] - 2s 43us/step - loss: 2.2293 - acc: 0.1626 - val_loss: 2.2285 - val_acc: 0.1574\n",
      "Epoch 32/50\n",
      "50000/50000 [==============================] - 2s 42us/step - loss: 2.2286 - acc: 0.1629 - val_loss: 2.2271 - val_acc: 0.1601\n",
      "Epoch 33/50\n",
      "50000/50000 [==============================] - 2s 40us/step - loss: 2.2282 - acc: 0.1613 - val_loss: 2.2282 - val_acc: 0.1596\n",
      "Epoch 34/50\n",
      "50000/50000 [==============================] - 2s 40us/step - loss: 2.2286 - acc: 0.1627 - val_loss: 2.2266 - val_acc: 0.1580\n",
      "Epoch 35/50\n",
      "50000/50000 [==============================] - 2s 40us/step - loss: 2.2278 - acc: 0.1605 - val_loss: 2.2278 - val_acc: 0.1628\n",
      "Epoch 36/50\n",
      "50000/50000 [==============================] - 2s 40us/step - loss: 2.2281 - acc: 0.1613 - val_loss: 2.2270 - val_acc: 0.1563\n",
      "Epoch 37/50\n",
      "50000/50000 [==============================] - 2s 40us/step - loss: 2.2278 - acc: 0.1623 - val_loss: 2.2275 - val_acc: 0.1576\n",
      "Epoch 38/50\n",
      "50000/50000 [==============================] - 2s 40us/step - loss: 2.2274 - acc: 0.1621 - val_loss: 2.2251 - val_acc: 0.1632\n",
      "Epoch 39/50\n",
      "50000/50000 [==============================] - 2s 40us/step - loss: 2.2270 - acc: 0.1634 - val_loss: 2.2261 - val_acc: 0.1628\n",
      "Epoch 40/50\n",
      "50000/50000 [==============================] - 2s 41us/step - loss: 2.2267 - acc: 0.1613 - val_loss: 2.2262 - val_acc: 0.1620\n",
      "Epoch 41/50\n",
      "50000/50000 [==============================] - 2s 42us/step - loss: 2.2262 - acc: 0.1631 - val_loss: 2.2240 - val_acc: 0.1560\n",
      "Epoch 42/50\n",
      "50000/50000 [==============================] - 2s 45us/step - loss: 2.2257 - acc: 0.1616 - val_loss: 2.2274 - val_acc: 0.1630\n",
      "Epoch 43/50\n",
      "50000/50000 [==============================] - 2s 48us/step - loss: 2.2263 - acc: 0.1625 - val_loss: 2.2250 - val_acc: 0.1556\n",
      "Epoch 44/50\n",
      "50000/50000 [==============================] - 2s 40us/step - loss: 2.2257 - acc: 0.1642 - val_loss: 2.2260 - val_acc: 0.1592\n",
      "Epoch 45/50\n",
      "50000/50000 [==============================] - 2s 46us/step - loss: 2.2255 - acc: 0.1618 - val_loss: 2.2258 - val_acc: 0.1603\n",
      "Epoch 46/50\n"
     ]
    },
    {
     "name": "stdout",
     "output_type": "stream",
     "text": [
      "50000/50000 [==============================] - 2s 42us/step - loss: 2.2253 - acc: 0.1636 - val_loss: 2.2242 - val_acc: 0.1593\n",
      "Epoch 47/50\n",
      "50000/50000 [==============================] - 2s 42us/step - loss: 2.2256 - acc: 0.1624 - val_loss: 2.2248 - val_acc: 0.1583\n",
      "Epoch 48/50\n",
      "50000/50000 [==============================] - 2s 40us/step - loss: 2.2251 - acc: 0.1632 - val_loss: 2.2225 - val_acc: 0.1621\n",
      "Epoch 49/50\n",
      "50000/50000 [==============================] - 2s 39us/step - loss: 2.2250 - acc: 0.1625 - val_loss: 2.2252 - val_acc: 0.1513\n",
      "Epoch 50/50\n",
      "50000/50000 [==============================] - 2s 40us/step - loss: 2.2249 - acc: 0.1641 - val_loss: 2.2233 - val_acc: 0.1570\n"
     ]
    }
   ],
   "source": [
    "\"\"\"Code Here\n",
    "撰寫你的訓練流程並將結果用 dictionary 紀錄\n",
    "\"\"\"\n",
    "\n",
    "model = build_mlp(input_shape=x_train.shape[1:])\n",
    "model.summary()\n",
    "optimizer = keras.optimizers.SGD(lr=LEARNING_RATE, nesterov=True, momentum=MOMENTUM)\n",
    "model.compile(loss=\"categorical_crossentropy\", metrics=[\"accuracy\"], optimizer=optimizer)\n",
    "\n",
    "model.fit(x_train, y_train, \n",
    "          epochs=EPOCHS, \n",
    "          batch_size=BATCH_SIZE, \n",
    "          validation_data=(x_test, y_test), \n",
    "          shuffle=True)\n",
    "\n",
    "# Collect results\n",
    "train_loss = model.history.history[\"loss\"]\n",
    "valid_loss = model.history.history[\"val_loss\"]\n",
    "train_acc = model.history.history[\"acc\"]\n",
    "valid_acc = model.history.history[\"val_acc\"]\n",
    "\n"
   ]
  },
  {
   "cell_type": "code",
   "execution_count": 8,
   "metadata": {},
   "outputs": [
    {
     "data": {
      "image/png": "[encoded data removed]",
      "text/plain": [
       "<Figure size 432x288 with 1 Axes>"
      ]
     },
     "metadata": {
      "needs_background": "light"
     },
     "output_type": "display_data"
    },
    {
     "data": {
      "image/png": "[encoded data removed]",
      "text/plain": [
       "<Figure size 432x288 with 1 Axes>"
      ]
     },
     "metadata": {
      "needs_background": "light"
     },
     "output_type": "display_data"
    }
   ],
   "source": [
    "import matplotlib.pyplot as plt\n",
    "%matplotlib inline\n",
    "\n",
    "plt.plot(range(len(train_loss)), train_loss, label=\"train loss\")\n",
    "plt.plot(range(len(valid_loss)), valid_loss, label=\"valid loss\")\n",
    "plt.legend()\n",
    "plt.title(\"Loss\")\n",
    "plt.show()\n",
    "\n",
    "plt.plot(range(len(train_acc)), train_acc, label=\"train accuracy\")\n",
    "plt.plot(range(len(valid_acc)), valid_acc, label=\"valid accuracy\")\n",
    "plt.legend()\n",
    "plt.title(\"Accuracy\")\n",
    "plt.show()"
   ]
  },
  {
   "cell_type": "code",
   "execution_count": null,
   "metadata": {},
   "outputs": [],
   "source": []
  }
 ],
 "metadata": {
  "kernelspec": {
   "display_name": "Python 3",
   "language": "python",
   "name": "python3"
  },
  "language_info": {
   "codemirror_mode": {
    "name": "ipython",
    "version": 3
   },
   "file_extension": ".py",
   "mimetype": "text/x-python",
   "name": "python",
   "nbconvert_exporter": "python",
   "pygments_lexer": "ipython3",
   "version": "3.7.3"
  }
 },
 "nbformat": 4,
 "nbformat_minor": 2
}
