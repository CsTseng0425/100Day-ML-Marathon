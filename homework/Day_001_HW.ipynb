{
 "cells": [
  {
   "cell_type": "markdown",
   "metadata": {},
   "source": [
    "# / 第 2 屆 /機器學習 百日馬拉松業界專家陪你升級打怪"
   ]
  },
  {
   "cell_type": "markdown",
   "metadata": {},
   "source": [
    "## 作業1：\n",
    "\n",
    "## 請上 Kaggle, 在 Competitions 或 Dataset 中找一組競賽或資料並寫下：\n",
    "\n",
    "## 1. 你選的這組資料為何重要\n"
   ]
  },
  {
   "cell_type": "markdown",
   "metadata": {},
   "source": [
    "### https://www.kaggle.com/c/how-much-did-it-rain-ii\n",
    "### How Much Did It Rain? II\n",
    "###  利用資訊科技改善人類生活"
   ]
  },
  {
   "cell_type": "markdown",
   "metadata": {},
   "source": [
    "## 2. 資料從何而來 (tips: 譬如提供者是誰、以什麼方式蒐集)\n"
   ]
  },
  {
   "cell_type": "markdown",
   "metadata": {},
   "source": [
    "###   U.S. National Weather Service "
   ]
  },
  {
   "cell_type": "markdown",
   "metadata": {},
   "source": [
    "## 3. 蒐集而來的資料型態為何\n",
    "\n"
   ]
  },
  {
   "cell_type": "markdown",
   "metadata": {},
   "source": [
    "### The columns in the datasets are:\n",
    "Id:  A unique number for the set of observations over an hour at a gauge.\n",
    "\n",
    "minutes_past:  For each set of radar observations, the minutes past the top of the hour that the radar observations were carried out.  \n",
    "\n",
    "Radar observations are snapshots at that point in time.\n",
    "\n",
    "radardist_km:  Distance of gauge from the radar whose observations are being reported.\n",
    "\n",
    "Ref:  Radar reflectivity in km\n",
    "\n",
    "Ref_5x5_10th:   10th percentile of reflectivity values in 5x5 neighborhood around the gauge.\n",
    "\n",
    "Ref_5x5_50th:   50th percentile\n",
    "\n",
    "Ref_5x5_90th:   90th percentile\n",
    "\n",
    "RefComposite:  Maximum reflectivity in the vertical column above gauge.  In dBZ.\n",
    "RefComposite_5x5_10th\n",
    "RefComposite_5x5_50th\n",
    "RefComposite_5x5_90th\n",
    "\n",
    "RhoHV:  Correlation coefficient (unitless)\n",
    "RhoHV_5x5_10th\n",
    "RhoHV_5x5_50th\n",
    "RhoHV_5x5_90th\n",
    "\n",
    "Zdr:    Differential reflectivity in dB\n",
    "Zdr_5x5_10th\n",
    "Zdr_5x5_50th\n",
    "Zdr_5x5_90th\n",
    "\n",
    "Kdp:  Specific differential phase (deg/km)\n",
    "Kdp_5x5_10th\n",
    "Kdp_5x5_50th\n",
    "Kdp_5x5_90th\n",
    "\n",
    "Expected:  Actual gauge observation in mm at the end of the hour."
   ]
  },
  {
   "cell_type": "markdown",
   "metadata": {},
   "source": [
    "## 4. 這組資料想解決的問題如何評估"
   ]
  },
  {
   "cell_type": "markdown",
   "metadata": {},
   "source": [
    "### 預測降雨量並廣範應用在不同的區域"
   ]
  },
  {
   "cell_type": "code",
   "execution_count": null,
   "metadata": {},
   "outputs": [],
   "source": []
  }
 ],
 "metadata": {
  "kernelspec": {
   "display_name": "Python 3",
   "language": "python",
   "name": "python3"
  },
  "language_info": {
   "codemirror_mode": {
    "name": "ipython",
    "version": 3
   },
   "file_extension": ".py",
   "mimetype": "text/x-python",
   "name": "python",
   "nbconvert_exporter": "python",
   "pygments_lexer": "ipython3",
   "version": "3.6.3"
  }
 },
 "nbformat": 4,
 "nbformat_minor": 2
}
