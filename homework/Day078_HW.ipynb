{
 "cells": [
  {
   "cell_type": "markdown",
   "metadata": {},
   "source": [
    "## Work\n",
    "1. 請嘗試將 preproc_x 替換成以每筆資料的 min/max 進行標準化至 -1 ~ 1 間，再進行訓練\n",
    "2. 請嘗試將 mlp 疊更深 (e.g 5~10 層)，進行訓練後觀察 learning curve 的走勢\n",
    "3. (optional) 請改用 GPU 進行訓練 (如果你有 GPU 的話)，比較使用 CPU 與 GPU 的訓練速度"
   ]
  },
  {
   "cell_type": "code",
   "execution_count": 1,
   "metadata": {},
   "outputs": [],
   "source": [
    "## \n",
    "\"\"\"\n",
    "Your code here (optional)\n",
    "確認硬體資源\n",
    "\"\"\"\n"
   ]
  },
  {
   "cell_type": "code",
   "execution_count": 1,
   "metadata": {},
   "outputs": [
    {
     "name": "stderr",
     "output_type": "stream",
     "text": [
      "Using TensorFlow backend.\n"
     ]
    }
   ],
   "source": [
    "import os\n",
    "import keras\n",
    "\n",
    "# 請嘗試設定 GPU：os.environ\n"
   ]
  },
  {
   "cell_type": "code",
   "execution_count": 2,
   "metadata": {},
   "outputs": [],
   "source": [
    "train, test = keras.datasets.cifar10.load_data()"
   ]
  },
  {
   "cell_type": "code",
   "execution_count": 30,
   "metadata": {},
   "outputs": [],
   "source": [
    "## 資料前處理\n",
    "from sklearn.preprocessing import MinMaxScaler\n",
    "import numpy as np\n",
    "def preproc_x(x, flatten=True):\n",
    "    x = x / 255.\n",
    "    if flatten:\n",
    "        x = x.reshape((len(x), -1))\n",
    "    scaler = MinMaxScaler()\n",
    "    result = scaler.fit_transform(x)\n",
    "    return result\n",
    "\n",
    "def preproc_y(y, num_classes=10):\n",
    "    if y.shape[-1] == 1:\n",
    "        y = keras.utils.to_categorical(y, num_classes)\n",
    "    return y    "
   ]
  },
  {
   "cell_type": "code",
   "execution_count": 31,
   "metadata": {},
   "outputs": [],
   "source": [
    "x_train, y_train = train\n",
    "x_test, y_test = test\n",
    "\n",
    "# Preproc the inputs\n",
    "x_train = preproc_x(x_train)\n",
    "x_test = preproc_x(x_test)\n",
    "\n",
    "# Preprc the outputs\n",
    "y_train = preproc_y(y_train)\n",
    "y_test = preproc_y(y_test)"
   ]
  },
  {
   "cell_type": "code",
   "execution_count": 32,
   "metadata": {},
   "outputs": [
    {
     "data": {
      "text/plain": [
       "(3072,)"
      ]
     },
     "execution_count": 32,
     "metadata": {},
     "output_type": "execute_result"
    }
   ],
   "source": [
    "x_train.shape[1:]"
   ]
  },
  {
   "cell_type": "code",
   "execution_count": 36,
   "metadata": {},
   "outputs": [],
   "source": [
    "\"\"\"Code Here\n",
    "建立你的神經網路\n",
    "\"\"\"\n",
    "def build_mlp(input_shape, output_units=10, num_neurons=[512, 256,256,128,64]):\n",
    "    input_layer = keras.layers.Input(input_shape)\n",
    "    \n",
    "    for i, n_units in enumerate(num_neurons):\n",
    "        if i == 0:\n",
    "            x = keras.layers.Dense(units=n_units, activation=\"relu\", name=\"hidden_layer\"+str(i+1))(input_layer)\n",
    "        else:\n",
    "            x = keras.layers.Dense(units=n_units, activation=\"relu\", name=\"hidden_layer\"+str(i+1))(x)\n",
    "    \n",
    "    out = keras.layers.Dense(units=output_units, activation=\"softmax\", name=\"output\")(x)\n",
    "    \n",
    "    model = keras.models.Model(inputs=[input_layer], outputs=[out])\n",
    "    return model\n"
   ]
  },
  {
   "cell_type": "code",
   "execution_count": 37,
   "metadata": {},
   "outputs": [
    {
     "name": "stdout",
     "output_type": "stream",
     "text": [
      "_________________________________________________________________\n",
      "Layer (type)                 Output Shape              Param #   \n",
      "=================================================================\n",
      "input_2 (InputLayer)         (None, 3072)              0         \n",
      "_________________________________________________________________\n",
      "hidden_layer1 (Dense)        (None, 512)               1573376   \n",
      "_________________________________________________________________\n",
      "hidden_layer2 (Dense)        (None, 256)               131328    \n",
      "_________________________________________________________________\n",
      "hidden_layer3 (Dense)        (None, 256)               65792     \n",
      "_________________________________________________________________\n",
      "hidden_layer4 (Dense)        (None, 128)               32896     \n",
      "_________________________________________________________________\n",
      "hidden_layer5 (Dense)        (None, 64)                8256      \n",
      "_________________________________________________________________\n",
      "output (Dense)               (None, 10)                650       \n",
      "=================================================================\n",
      "Total params: 1,812,298\n",
      "Trainable params: 1,812,298\n",
      "Non-trainable params: 0\n",
      "_________________________________________________________________\n"
     ]
    }
   ],
   "source": [
    "model = build_mlp(input_shape=x_train.shape[1:])\n",
    "model.summary()"
   ]
  },
  {
   "cell_type": "code",
   "execution_count": 38,
   "metadata": {},
   "outputs": [],
   "source": [
    "## 超參數設定\n",
    "LEARNING_RATE = 0.001\n",
    "EPOCHS = 100\n",
    "BATCH_SIZE = 256"
   ]
  },
  {
   "cell_type": "code",
   "execution_count": 39,
   "metadata": {},
   "outputs": [
    {
     "name": "stderr",
     "output_type": "stream",
     "text": [
      "W0804 12:10:08.346241 15388 deprecation_wrapper.py:119] From c:\\users\\susan01\\appdata\\local\\programs\\python\\python37\\lib\\site-packages\\keras\\optimizers.py:790: The name tf.train.Optimizer is deprecated. Please use tf.compat.v1.train.Optimizer instead.\n",
      "\n",
      "W0804 12:10:08.376154 15388 deprecation_wrapper.py:119] From c:\\users\\susan01\\appdata\\local\\programs\\python\\python37\\lib\\site-packages\\keras\\backend\\tensorflow_backend.py:3295: The name tf.log is deprecated. Please use tf.math.log instead.\n",
      "\n"
     ]
    }
   ],
   "source": [
    "optimizer = keras.optimizers.Adam(lr=LEARNING_RATE)\n",
    "model.compile(loss=\"categorical_crossentropy\", metrics=[\"accuracy\"], optimizer=optimizer)"
   ]
  },
  {
   "cell_type": "code",
   "execution_count": 40,
   "metadata": {},
   "outputs": [
    {
     "name": "stderr",
     "output_type": "stream",
     "text": [
      "W0804 12:10:10.238610 15388 deprecation.py:323] From c:\\users\\susan01\\appdata\\local\\programs\\python\\python37\\lib\\site-packages\\tensorflow\\python\\ops\\math_grad.py:1250: add_dispatch_support.<locals>.wrapper (from tensorflow.python.ops.array_ops) is deprecated and will be removed in a future version.\n",
      "Instructions for updating:\n",
      "Use tf.where in 2.0, which has the same broadcast rule as np.where\n",
      "W0804 12:10:10.456026 15388 deprecation_wrapper.py:119] From c:\\users\\susan01\\appdata\\local\\programs\\python\\python37\\lib\\site-packages\\keras\\backend\\tensorflow_backend.py:986: The name tf.assign_add is deprecated. Please use tf.compat.v1.assign_add instead.\n",
      "\n"
     ]
    },
    {
     "name": "stdout",
     "output_type": "stream",
     "text": [
      "Train on 50000 samples, validate on 10000 samples\n",
      "Epoch 1/100\n",
      "50000/50000 [==============================] - 24s 489us/step - loss: 1.9204 - acc: 0.2979 - val_loss: 1.7422 - val_acc: 0.3674\n",
      "Epoch 2/100\n",
      "50000/50000 [==============================] - 23s 469us/step - loss: 1.7099 - acc: 0.3849 - val_loss: 1.6578 - val_acc: 0.4109\n",
      "Epoch 3/100\n",
      "50000/50000 [==============================] - 24s 471us/step - loss: 1.6195 - acc: 0.4167 - val_loss: 1.5801 - val_acc: 0.4317\n",
      "Epoch 4/100\n",
      "50000/50000 [==============================] - 24s 482us/step - loss: 1.5572 - acc: 0.4404 - val_loss: 1.5206 - val_acc: 0.4557\n",
      "Epoch 5/100\n",
      "50000/50000 [==============================] - 22s 446us/step - loss: 1.5086 - acc: 0.4577 - val_loss: 1.5240 - val_acc: 0.4552\n",
      "Epoch 6/100\n",
      "50000/50000 [==============================] - 25s 507us/step - loss: 1.4702 - acc: 0.4739 - val_loss: 1.4660 - val_acc: 0.4729\n",
      "Epoch 7/100\n",
      "50000/50000 [==============================] - 27s 530us/step - loss: 1.4301 - acc: 0.4889 - val_loss: 1.4561 - val_acc: 0.4830\n",
      "Epoch 8/100\n",
      "50000/50000 [==============================] - 25s 509us/step - loss: 1.3970 - acc: 0.5005 - val_loss: 1.5709 - val_acc: 0.4532\n",
      "Epoch 9/100\n",
      "50000/50000 [==============================] - 26s 525us/step - loss: 1.3683 - acc: 0.5084 - val_loss: 1.4426 - val_acc: 0.4868\n",
      "Epoch 10/100\n",
      "50000/50000 [==============================] - 27s 549us/step - loss: 1.3376 - acc: 0.5222 - val_loss: 1.4230 - val_acc: 0.4936\n",
      "Epoch 11/100\n",
      "50000/50000 [==============================] - 23s 452us/step - loss: 1.3258 - acc: 0.5263 - val_loss: 1.4357 - val_acc: 0.4855\n",
      "Epoch 12/100\n",
      "50000/50000 [==============================] - 22s 449us/step - loss: 1.2996 - acc: 0.5371 - val_loss: 1.4007 - val_acc: 0.5092\n",
      "Epoch 13/100\n",
      "50000/50000 [==============================] - 21s 427us/step - loss: 1.2698 - acc: 0.5441 - val_loss: 1.4920 - val_acc: 0.4775\n",
      "Epoch 14/100\n",
      "50000/50000 [==============================] - 21s 428us/step - loss: 1.2412 - acc: 0.5547 - val_loss: 1.4651 - val_acc: 0.4881\n",
      "Epoch 15/100\n",
      "50000/50000 [==============================] - 21s 429us/step - loss: 1.2211 - acc: 0.5635 - val_loss: 1.3906 - val_acc: 0.5065\n",
      "Epoch 16/100\n",
      "50000/50000 [==============================] - 21s 429us/step - loss: 1.1850 - acc: 0.5765 - val_loss: 1.4064 - val_acc: 0.5005\n",
      "Epoch 17/100\n",
      "50000/50000 [==============================] - 24s 472us/step - loss: 1.1820 - acc: 0.5779 - val_loss: 1.4459 - val_acc: 0.4953\n",
      "Epoch 18/100\n",
      "50000/50000 [==============================] - 23s 454us/step - loss: 1.1562 - acc: 0.5870 - val_loss: 1.3748 - val_acc: 0.5135\n",
      "Epoch 19/100\n",
      "50000/50000 [==============================] - 23s 460us/step - loss: 1.1228 - acc: 0.5998 - val_loss: 1.3994 - val_acc: 0.5076\n",
      "Epoch 20/100\n",
      "50000/50000 [==============================] - 23s 466us/step - loss: 1.1029 - acc: 0.6058 - val_loss: 1.4241 - val_acc: 0.5071\n",
      "Epoch 21/100\n",
      "50000/50000 [==============================] - 24s 471us/step - loss: 1.0841 - acc: 0.6129 - val_loss: 1.3788 - val_acc: 0.5251\n",
      "Epoch 22/100\n",
      "50000/50000 [==============================] - 24s 485us/step - loss: 1.0552 - acc: 0.6200 - val_loss: 1.4307 - val_acc: 0.5094\n",
      "Epoch 23/100\n",
      "50000/50000 [==============================] - 25s 505us/step - loss: 1.0433 - acc: 0.6253 - val_loss: 1.4181 - val_acc: 0.5191\n",
      "Epoch 24/100\n",
      "50000/50000 [==============================] - 26s 527us/step - loss: 1.0038 - acc: 0.6408 - val_loss: 1.4072 - val_acc: 0.5265\n",
      "Epoch 25/100\n",
      "50000/50000 [==============================] - 25s 506us/step - loss: 0.9799 - acc: 0.6470 - val_loss: 1.4307 - val_acc: 0.5172\n",
      "Epoch 26/100\n",
      "50000/50000 [==============================] - 25s 505us/step - loss: 0.9732 - acc: 0.6504 - val_loss: 1.4827 - val_acc: 0.5060\n",
      "Epoch 27/100\n",
      "50000/50000 [==============================] - 25s 503us/step - loss: 0.9464 - acc: 0.6613 - val_loss: 1.4447 - val_acc: 0.5209\n",
      "Epoch 28/100\n",
      "50000/50000 [==============================] - 25s 506us/step - loss: 0.9139 - acc: 0.6720 - val_loss: 1.4589 - val_acc: 0.5254\n",
      "Epoch 29/100\n",
      "50000/50000 [==============================] - 25s 505us/step - loss: 0.8916 - acc: 0.6802 - val_loss: 1.5156 - val_acc: 0.5192\n",
      "Epoch 30/100\n",
      "50000/50000 [==============================] - 25s 507us/step - loss: 0.8755 - acc: 0.6858 - val_loss: 1.5582 - val_acc: 0.5024\n",
      "Epoch 31/100\n",
      "50000/50000 [==============================] - 26s 511us/step - loss: 0.8518 - acc: 0.6914 - val_loss: 1.5426 - val_acc: 0.5024\n",
      "Epoch 32/100\n",
      "50000/50000 [==============================] - 26s 529us/step - loss: 0.8210 - acc: 0.7035 - val_loss: 1.5921 - val_acc: 0.5122\n",
      "Epoch 33/100\n",
      "50000/50000 [==============================] - 23s 460us/step - loss: 0.8131 - acc: 0.7069 - val_loss: 1.6151 - val_acc: 0.5081\n",
      "Epoch 34/100\n",
      "50000/50000 [==============================] - 23s 469us/step - loss: 0.7844 - acc: 0.7174 - val_loss: 1.6791 - val_acc: 0.5146\n",
      "Epoch 35/100\n",
      "50000/50000 [==============================] - 23s 456us/step - loss: 0.7881 - acc: 0.7169 - val_loss: 1.6394 - val_acc: 0.5044\n",
      "Epoch 36/100\n",
      "50000/50000 [==============================] - 22s 445us/step - loss: 0.7389 - acc: 0.7333 - val_loss: 1.7032 - val_acc: 0.5141\n",
      "Epoch 37/100\n",
      "50000/50000 [==============================] - 22s 446us/step - loss: 0.7231 - acc: 0.7395 - val_loss: 1.7145 - val_acc: 0.5062\n",
      "Epoch 38/100\n",
      "50000/50000 [==============================] - 22s 444us/step - loss: 0.7086 - acc: 0.7448 - val_loss: 1.7278 - val_acc: 0.5123\n",
      "Epoch 39/100\n",
      "50000/50000 [==============================] - 22s 443us/step - loss: 0.6904 - acc: 0.7507 - val_loss: 1.8360 - val_acc: 0.5083\n",
      "Epoch 40/100\n",
      "50000/50000 [==============================] - 22s 445us/step - loss: 0.6695 - acc: 0.7584 - val_loss: 1.7864 - val_acc: 0.5065\n",
      "Epoch 41/100\n",
      "50000/50000 [==============================] - 22s 442us/step - loss: 0.6652 - acc: 0.7595 - val_loss: 1.8372 - val_acc: 0.5096\n",
      "Epoch 42/100\n",
      "50000/50000 [==============================] - 22s 444us/step - loss: 0.6376 - acc: 0.7703 - val_loss: 1.8834 - val_acc: 0.5082\n",
      "Epoch 43/100\n",
      "50000/50000 [==============================] - 22s 447us/step - loss: 0.6134 - acc: 0.7788 - val_loss: 1.9466 - val_acc: 0.5007\n",
      "Epoch 44/100\n",
      "50000/50000 [==============================] - 22s 443us/step - loss: 0.6039 - acc: 0.7819 - val_loss: 1.9748 - val_acc: 0.5029\n",
      "Epoch 45/100\n",
      "50000/50000 [==============================] - 22s 445us/step - loss: 0.5805 - acc: 0.7886 - val_loss: 1.9919 - val_acc: 0.5080\n",
      "Epoch 46/100\n",
      "50000/50000 [==============================] - 22s 447us/step - loss: 0.5717 - acc: 0.7939 - val_loss: 2.0279 - val_acc: 0.5064\n",
      "Epoch 47/100\n",
      "50000/50000 [==============================] - 22s 442us/step - loss: 0.5473 - acc: 0.8020 - val_loss: 2.0368 - val_acc: 0.5140\n",
      "Epoch 48/100\n",
      "50000/50000 [==============================] - 24s 486us/step - loss: 0.5444 - acc: 0.8038 - val_loss: 2.1205 - val_acc: 0.5030\n",
      "Epoch 49/100\n",
      "50000/50000 [==============================] - 24s 471us/step - loss: 0.5572 - acc: 0.7967 - val_loss: 2.1141 - val_acc: 0.5085\n",
      "Epoch 50/100\n",
      "50000/50000 [==============================] - 24s 471us/step - loss: 0.5124 - acc: 0.8165 - val_loss: 2.1950 - val_acc: 0.5037\n",
      "Epoch 51/100\n",
      "50000/50000 [==============================] - 25s 502us/step - loss: 0.5126 - acc: 0.8144 - val_loss: 2.2293 - val_acc: 0.5037\n",
      "Epoch 52/100\n",
      "50000/50000 [==============================] - 25s 495us/step - loss: 0.5042 - acc: 0.8171 - val_loss: 2.2350 - val_acc: 0.5067\n",
      "Epoch 53/100\n",
      "50000/50000 [==============================] - 25s 497us/step - loss: 0.4736 - acc: 0.8303 - val_loss: 2.2706 - val_acc: 0.4916\n",
      "Epoch 54/100\n",
      "50000/50000 [==============================] - 25s 500us/step - loss: 0.4841 - acc: 0.8269 - val_loss: 2.3183 - val_acc: 0.5028\n",
      "Epoch 55/100\n",
      "50000/50000 [==============================] - 27s 534us/step - loss: 0.4688 - acc: 0.8307 - val_loss: 2.3411 - val_acc: 0.5011\n",
      "Epoch 56/100\n",
      "50000/50000 [==============================] - 26s 517us/step - loss: 0.4273 - acc: 0.8474 - val_loss: 2.4641 - val_acc: 0.5026\n",
      "Epoch 57/100\n",
      "50000/50000 [==============================] - 27s 532us/step - loss: 0.4488 - acc: 0.8387 - val_loss: 2.4001 - val_acc: 0.5007\n",
      "Epoch 58/100\n",
      "50000/50000 [==============================] - 26s 529us/step - loss: 0.4621 - acc: 0.8326 - val_loss: 2.4176 - val_acc: 0.5006\n"
     ]
    },
    {
     "name": "stdout",
     "output_type": "stream",
     "text": [
      "Epoch 59/100\n",
      "50000/50000 [==============================] - 23s 454us/step - loss: 0.4407 - acc: 0.8408 - val_loss: 2.4443 - val_acc: 0.4999\n",
      "Epoch 60/100\n",
      "50000/50000 [==============================] - 23s 456us/step - loss: 0.4225 - acc: 0.8464 - val_loss: 2.5404 - val_acc: 0.4989\n",
      "Epoch 61/100\n",
      "50000/50000 [==============================] - 23s 454us/step - loss: 0.4060 - acc: 0.8537 - val_loss: 2.6185 - val_acc: 0.4917\n",
      "Epoch 62/100\n",
      "50000/50000 [==============================] - 23s 456us/step - loss: 0.4042 - acc: 0.8550 - val_loss: 2.5705 - val_acc: 0.4921\n",
      "Epoch 63/100\n",
      "50000/50000 [==============================] - 23s 454us/step - loss: 0.4165 - acc: 0.8479 - val_loss: 2.6227 - val_acc: 0.5028\n",
      "Epoch 64/100\n",
      "50000/50000 [==============================] - 23s 457us/step - loss: 0.3811 - acc: 0.8642 - val_loss: 2.6709 - val_acc: 0.4967\n",
      "Epoch 65/100\n",
      "50000/50000 [==============================] - 22s 449us/step - loss: 0.3853 - acc: 0.8623 - val_loss: 2.6541 - val_acc: 0.4984\n",
      "Epoch 66/100\n",
      "50000/50000 [==============================] - 22s 450us/step - loss: 0.3702 - acc: 0.8676 - val_loss: 2.7441 - val_acc: 0.4904\n",
      "Epoch 67/100\n",
      "50000/50000 [==============================] - 23s 453us/step - loss: 0.3345 - acc: 0.8801 - val_loss: 2.8130 - val_acc: 0.4949\n",
      "Epoch 68/100\n",
      "50000/50000 [==============================] - 23s 452us/step - loss: 0.3519 - acc: 0.8744 - val_loss: 2.7237 - val_acc: 0.4943\n",
      "Epoch 69/100\n",
      "50000/50000 [==============================] - 23s 454us/step - loss: 0.3889 - acc: 0.8600 - val_loss: 2.8781 - val_acc: 0.4886\n",
      "Epoch 70/100\n",
      "50000/50000 [==============================] - 23s 454us/step - loss: 0.3529 - acc: 0.8723 - val_loss: 2.8524 - val_acc: 0.4994\n",
      "Epoch 71/100\n",
      "50000/50000 [==============================] - 23s 453us/step - loss: 0.3407 - acc: 0.8759 - val_loss: 2.8413 - val_acc: 0.4862\n",
      "Epoch 72/100\n",
      "50000/50000 [==============================] - 23s 452us/step - loss: 0.3266 - acc: 0.8818 - val_loss: 2.9033 - val_acc: 0.5020\n",
      "Epoch 73/100\n",
      "50000/50000 [==============================] - 23s 452us/step - loss: 0.3068 - acc: 0.8903 - val_loss: 2.9929 - val_acc: 0.4957\n",
      "Epoch 74/100\n",
      "50000/50000 [==============================] - 23s 458us/step - loss: 0.3440 - acc: 0.8763 - val_loss: 2.9771 - val_acc: 0.4969\n",
      "Epoch 75/100\n",
      "50000/50000 [==============================] - 23s 454us/step - loss: 0.3228 - acc: 0.8829 - val_loss: 2.9397 - val_acc: 0.4925\n",
      "Epoch 76/100\n",
      "50000/50000 [==============================] - 23s 455us/step - loss: 0.3129 - acc: 0.8875 - val_loss: 3.0187 - val_acc: 0.4957\n",
      "Epoch 77/100\n",
      "50000/50000 [==============================] - 23s 454us/step - loss: 0.3123 - acc: 0.8883 - val_loss: 3.0386 - val_acc: 0.4937\n",
      "Epoch 78/100\n",
      "50000/50000 [==============================] - 23s 454us/step - loss: 0.3300 - acc: 0.8837 - val_loss: 3.0658 - val_acc: 0.4973\n",
      "Epoch 79/100\n",
      "50000/50000 [==============================] - 23s 457us/step - loss: 0.3146 - acc: 0.8884 - val_loss: 3.0847 - val_acc: 0.4951\n",
      "Epoch 80/100\n",
      "50000/50000 [==============================] - 23s 457us/step - loss: 0.2791 - acc: 0.9004 - val_loss: 3.1520 - val_acc: 0.4976\n",
      "Epoch 81/100\n",
      "50000/50000 [==============================] - 23s 455us/step - loss: 0.2977 - acc: 0.8924 - val_loss: 3.0884 - val_acc: 0.4965\n",
      "Epoch 82/100\n",
      "50000/50000 [==============================] - 23s 454us/step - loss: 0.2949 - acc: 0.8944 - val_loss: 3.2533 - val_acc: 0.4932\n",
      "Epoch 83/100\n",
      "50000/50000 [==============================] - 23s 460us/step - loss: 0.3039 - acc: 0.8914 - val_loss: 3.2118 - val_acc: 0.4814\n",
      "Epoch 84/100\n",
      "50000/50000 [==============================] - 23s 459us/step - loss: 0.3032 - acc: 0.8902 - val_loss: 3.2211 - val_acc: 0.4958\n",
      "Epoch 85/100\n",
      "50000/50000 [==============================] - 23s 464us/step - loss: 0.2934 - acc: 0.8952 - val_loss: 3.1239 - val_acc: 0.4986\n",
      "Epoch 86/100\n",
      "50000/50000 [==============================] - 23s 454us/step - loss: 0.2606 - acc: 0.9062 - val_loss: 3.1840 - val_acc: 0.4924\n",
      "Epoch 87/100\n",
      "50000/50000 [==============================] - 23s 456us/step - loss: 0.2560 - acc: 0.9087 - val_loss: 3.2319 - val_acc: 0.4939\n",
      "Epoch 88/100\n",
      "50000/50000 [==============================] - 24s 470us/step - loss: 0.2957 - acc: 0.8938 - val_loss: 3.2243 - val_acc: 0.4928\n",
      "Epoch 89/100\n",
      "50000/50000 [==============================] - 23s 464us/step - loss: 0.3111 - acc: 0.8908 - val_loss: 3.2657 - val_acc: 0.4931\n",
      "Epoch 90/100\n",
      "50000/50000 [==============================] - 24s 472us/step - loss: 0.2480 - acc: 0.9121 - val_loss: 3.3518 - val_acc: 0.4926\n",
      "Epoch 91/100\n",
      "50000/50000 [==============================] - 23s 462us/step - loss: 0.2467 - acc: 0.9123 - val_loss: 3.3772 - val_acc: 0.4929\n",
      "Epoch 92/100\n",
      "50000/50000 [==============================] - 23s 457us/step - loss: 0.2572 - acc: 0.9102 - val_loss: 3.4089 - val_acc: 0.4905\n",
      "Epoch 93/100\n",
      "50000/50000 [==============================] - 24s 478us/step - loss: 0.2471 - acc: 0.9116 - val_loss: 3.3669 - val_acc: 0.4883\n",
      "Epoch 94/100\n",
      "50000/50000 [==============================] - 24s 485us/step - loss: 0.2608 - acc: 0.9060 - val_loss: 3.4455 - val_acc: 0.5023\n",
      "Epoch 95/100\n",
      "50000/50000 [==============================] - 23s 452us/step - loss: 0.2566 - acc: 0.9092 - val_loss: 3.3831 - val_acc: 0.4920\n",
      "Epoch 96/100\n",
      "50000/50000 [==============================] - 23s 452us/step - loss: 0.2365 - acc: 0.9166 - val_loss: 3.5355 - val_acc: 0.4971\n",
      "Epoch 97/100\n",
      "50000/50000 [==============================] - 24s 471us/step - loss: 0.2697 - acc: 0.9038 - val_loss: 3.4769 - val_acc: 0.4970\n",
      "Epoch 98/100\n",
      "50000/50000 [==============================] - 23s 458us/step - loss: 0.2402 - acc: 0.9154 - val_loss: 3.3609 - val_acc: 0.4895\n",
      "Epoch 99/100\n",
      "50000/50000 [==============================] - 23s 453us/step - loss: 0.2784 - acc: 0.9007 - val_loss: 3.4214 - val_acc: 0.4977\n",
      "Epoch 100/100\n",
      "50000/50000 [==============================] - 23s 454us/step - loss: 0.2392 - acc: 0.9147 - val_loss: 3.4846 - val_acc: 0.4915\n"
     ]
    },
    {
     "data": {
      "text/plain": [
       "<keras.callbacks.History at 0x1ee461eeb70>"
      ]
     },
     "execution_count": 40,
     "metadata": {},
     "output_type": "execute_result"
    }
   ],
   "source": [
    "model.fit(x_train, y_train, \n",
    "          epochs=EPOCHS, \n",
    "          batch_size=BATCH_SIZE, \n",
    "          validation_data=(x_test, y_test), \n",
    "          shuffle=True)"
   ]
  },
  {
   "cell_type": "code",
   "execution_count": 42,
   "metadata": {},
   "outputs": [
    {
     "data": {
      "image/png": "[encoded data removed]",
      "text/plain": [
       "<Figure size 432x288 with 1 Axes>"
      ]
     },
     "metadata": {
      "needs_background": "light"
     },
     "output_type": "display_data"
    },
    {
     "data": {
      "image/png": "[encoded data removed]",
      "text/plain": [
       "<Figure size 432x288 with 1 Axes>"
      ]
     },
     "metadata": {
      "needs_background": "light"
     },
     "output_type": "display_data"
    }
   ],
   "source": [
    "import matplotlib.pyplot as plt\n",
    "\n",
    "\n",
    "train_loss = model.history.history[\"loss\"]\n",
    "valid_loss = model.history.history[\"val_loss\"]\n",
    "\n",
    "train_acc = model.history.history[\"acc\"]\n",
    "valid_acc = model.history.history[\"val_acc\"]\n",
    "\n",
    "plt.plot(range(len(train_loss)), train_loss, label=\"train loss\")\n",
    "plt.plot(range(len(valid_loss)), valid_loss, label=\"valid loss\")\n",
    "plt.legend()\n",
    "plt.title(\"Loss\")\n",
    "plt.show()\n",
    "\n",
    "plt.plot(range(len(train_acc)), train_acc, label=\"train accuracy\")\n",
    "plt.plot(range(len(valid_acc)), valid_acc, label=\"valid accuracy\")\n",
    "plt.legend()\n",
    "plt.title(\"Accuracy\")\n",
    "plt.show()"
   ]
  },
  {
   "cell_type": "code",
   "execution_count": null,
   "metadata": {},
   "outputs": [],
   "source": []
  }
 ],
 "metadata": {
  "kernelspec": {
   "display_name": "Python 3",
   "language": "python",
   "name": "python3"
  },
  "language_info": {
   "codemirror_mode": {
    "name": "ipython",
    "version": 3
   },
   "file_extension": ".py",
   "mimetype": "text/x-python",
   "name": "python",
   "nbconvert_exporter": "python",
   "pygments_lexer": "ipython3",
   "version": "3.7.3"
  }
 },
 "nbformat": 4,
 "nbformat_minor": 2
}
